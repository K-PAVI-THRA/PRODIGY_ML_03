import os
import cv2
import numpy as np
from sklearn.svm import SVC
from sklearn.preprocessing import LabelEncoder

# Paths to the directories
train_data_dir = '/content/drive/MyDrive/Datasets/train1/train'
test_data_dir = '/content/drive/MyDrive/Datasets/test1/test1'

# Prepare training data
train_data = []
train_labels = []

for img in os.listdir(train_data_dir):
    img_path = os.path.join(train_data_dir, img)
    try:
        # Load and preprocess image
        img_array = cv2.imread(img_path, cv2.IMREAD_GRAYSCALE)  # Convert to grayscale
        resized_img = cv2.resize(img_array, (64, 64))  # Resize images to 64x64
        train_data.append(resized_img.flatten())  # Flatten the image

        # Extract label from filename (e.g., "cat.number.jpg")
        label = img.split('.')[0]  # Extract the 'cat' part
        train_labels.append(label)  # Append label
    except Exception as e:
        print(f"Error loading image: {e}")

# Convert training data to NumPy arrays
train_data = np.array(train_data)
train_labels = np.array(train_labels)

# Print unique labels to debug
print("Unique labels in training data:", np.unique(train_labels))

# Initialize and fit LabelEncoder with training labels
label_encoder = LabelEncoder()
label_encoder.fit(train_labels)  # Fit with training labels

# Convert training labels to numeric values
train_labels = label_encoder.transform(train_labels)

# Check number of unique classes
if len(np.unique(train_labels)) < 2:
    raise ValueError("The training data must contain at least two classes.")

# Prepare test data
test_data = []

for img in os.listdir(test_data_dir):
    img_path = os.path.join(test_data_dir, img)
    try:
        # Load and preprocess image
        img_array = cv2.imread(img_path, cv2.IMREAD_GRAYSCALE)  # Convert to grayscale
        resized_img = cv2.resize(img_array, (64, 64))  # Resize images to 64x64
        test_data.append(resized_img.flatten())  # Flatten the image
    except Exception as e:
        print(f"Error loading image: {e}")

# Convert test data to NumPy arrays
test_data = np.array(test_data)

# Initialize and train SVM model
svm_model = SVC(kernel='linear')  # You can experiment with other kernels like 'rbf'
svm_model.fit(train_data, train_labels)

# Predict the test data
y_pred = svm_model.predict(test_data)

# Print predictions (just as an example; adjust as needed)
for i, img in enumerate(os.listdir(test_data_dir)):
    print(f"Image {img} predicted as: {label_encoder.inverse_transform([y_pred[i]])[0]}")
